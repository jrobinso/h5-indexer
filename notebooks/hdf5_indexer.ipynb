{
  "nbformat": 4,
  "nbformat_minor": 0,
  "metadata": {
    "colab": {
      "private_outputs": true,
      "provenance": [],
      "include_colab_link": true
    },
    "kernelspec": {
      "name": "python3",
      "display_name": "Python 3"
    },
    "language_info": {
      "name": "python"
    },
    "gpuClass": "standard"
  },
  "cells": [
    {
      "cell_type": "markdown",
      "metadata": {
        "id": "view-in-github",
        "colab_type": "text"
      },
      "source": [
        "<a href=\"https://colab.research.google.com/github/jrobinso/hdf5-indexer/blob/main/notebooks/hdf5_indexer.ipynb\" target=\"_parent\"><img src=\"https://colab.research.google.com/assets/colab-badge.svg\" alt=\"Open In Colab\"/></a>"
      ]
    },
    {
      "cell_type": "markdown",
      "source": [
        "# hdf5-indexer example notebook\n",
        "\n",
        "This notebook illustrates using [hdf5-indexer](https://github.com/jrobinso/hdf5-indexer) to index an hdf5 file for efficient remote access. "
      ],
      "metadata": {
        "id": "FtbTQNdVDIX7"
      }
    },
    {
      "cell_type": "markdown",
      "source": [
        "## Command Line usage"
      ],
      "metadata": {
        "collapsed": false,
        "pycharm": {
          "name": "#%% md\n"
        },
        "id": "IP80ybFK9VEt"
      }
    },
    {
      "cell_type": "markdown",
      "source": [
        "**Install hdf5-indexer**"
      ],
      "metadata": {
        "collapsed": false,
        "pycharm": {
          "name": "#%% md\n"
        },
        "id": "pxPOr3ac9VEt"
      }
    },
    {
      "cell_type": "code",
      "execution_count": null,
      "outputs": [],
      "source": [
        "!pip install git+https://github.com/jrobinso/hdf5-indexer.git"
      ],
      "metadata": {
        "pycharm": {
          "name": "#%%\n"
        },
        "id": "vD6i0aEQ9VEu"
      }
    },
    {
      "cell_type": "markdown",
      "source": [
        "**Download example file**"
      ],
      "metadata": {
        "collapsed": false,
        "pycharm": {
          "name": "#%% md\n"
        },
        "id": "9INL5wvW9VEv"
      }
    },
    {
      "cell_type": "code",
      "execution_count": null,
      "outputs": [],
      "source": [
        "!wget https://www.dropbox.com/s/7hmj25az1vgaejf/spleen_1chr1rep.cndb?dl=0 -O spleen_1chr1rep.cndb"
      ],
      "metadata": {
        "pycharm": {
          "name": "#%%\n"
        },
        "id": "1yMBrYIf9VEv"
      }
    },
    {
      "cell_type": "markdown",
      "source": [
        "**Create index**"
      ],
      "metadata": {
        "collapsed": false,
        "pycharm": {
          "name": "#%% md\n"
        },
        "id": "xrgxTIRI9VEv"
      }
    },
    {
      "cell_type": "code",
      "execution_count": null,
      "outputs": [],
      "source": [
        "!h5index spleen_1chr1rep.cndb"
      ],
      "metadata": {
        "pycharm": {
          "name": "#%%\n"
        },
        "id": "VMdfqyzp9VEw"
      }
    },
    {
      "cell_type": "markdown",
      "source": [
        "## Utilities"
      ],
      "metadata": {
        "id": "eL0gLxK7X72D"
      }
    },
    {
      "cell_type": "markdown",
      "source": [
        "**Extract index**"
      ],
      "metadata": {
        "id": "c4Z2w6XMYHAw"
      }
    },
    {
      "cell_type": "code",
      "source": [
        "!h5extract spleen_1chr1rep.cndb"
      ],
      "metadata": {
        "id": "BmBNAvzlYLzT"
      },
      "execution_count": null,
      "outputs": []
    },
    {
      "cell_type": "markdown",
      "source": [
        "**Extract index offset**"
      ],
      "metadata": {
        "id": "pNPowajqZ2gZ"
      }
    },
    {
      "cell_type": "code",
      "source": [
        "!h5extract-offset spleen_1chr1rep.cndb"
      ],
      "metadata": {
        "id": "ELBv4TLuZ6Zr"
      },
      "execution_count": null,
      "outputs": []
    },
    {
      "cell_type": "markdown",
      "source": [
        "**Update offset**"
      ],
      "metadata": {
        "id": "i2Myc8xUV1jf"
      }
    },
    {
      "cell_type": "code",
      "execution_count": null,
      "outputs": [],
      "source": [
        "!h5update-offset spleen_1chr1rep.cndb"
      ],
      "metadata": {
        "pycharm": {
          "name": "#%%\n"
        },
        "id": "e-iAuqQf9VEw"
      }
    },
    {
      "cell_type": "markdown",
      "source": [
        "## Programatic usage\n"
      ],
      "metadata": {
        "collapsed": false,
        "pycharm": {
          "name": "#%% md\n"
        },
        "id": "-CAgIbvs9VEx"
      }
    },
    {
      "cell_type": "markdown",
      "source": [
        "**Install hdf5-indexer**"
      ],
      "metadata": {
        "collapsed": false,
        "pycharm": {
          "name": "#%% md\n"
        },
        "id": "GfoVIxof9VEx"
      }
    },
    {
      "cell_type": "code",
      "execution_count": null,
      "outputs": [],
      "source": [
        "!pip install git+https://github.com/jrobinso/hdf5-indexer.git"
      ],
      "metadata": {
        "pycharm": {
          "name": "#%%\n"
        },
        "id": "zY4_I9Mm9VEx"
      }
    },
    {
      "cell_type": "markdown",
      "source": [
        "**Download example file**"
      ],
      "metadata": {
        "collapsed": false,
        "pycharm": {
          "name": "#%% md\n"
        },
        "id": "hsK_tIHX9VEx"
      }
    },
    {
      "cell_type": "code",
      "execution_count": null,
      "outputs": [],
      "source": [
        "!wget https://www.dropbox.com/s/7hmj25az1vgaejf/spleen_1chr1rep.cndb?dl=0 -O spleen_1chr1rep.cndb"
      ],
      "metadata": {
        "pycharm": {
          "name": "#%%\n"
        },
        "id": "Kvyr67mk9VEy"
      }
    },
    {
      "cell_type": "code",
      "execution_count": null,
      "metadata": {
        "id": "eyba_ASnJhQF"
      },
      "outputs": [],
      "source": [
        "!pip install git+https://github.com/jrobinso/hdf5-indexer.git"
      ]
    },
    {
      "cell_type": "markdown",
      "source": [
        "**Download example file**"
      ],
      "metadata": {
        "id": "lD2SdbVaJhQG"
      }
    },
    {
      "cell_type": "code",
      "source": [
        "!wget https://www.dropbox.com/s/7hmj25az1vgaejf/spleen_1chr1rep.cndb?dl=0 -O spleen_1chr1rep.cndb"
      ],
      "metadata": {
        "id": "RPh5Y_vwJhQG"
      },
      "execution_count": null,
      "outputs": []
    },
    {
      "cell_type": "markdown",
      "source": [
        "**Create index**"
      ],
      "metadata": {
        "id": "nKRtH4Y4F0Xz"
      }
    },
    {
      "cell_type": "code",
      "source": [
        "import hdf5_indexer\n",
        "hdf5_indexer.make_index('spleen_1chr1rep.cndb')"
      ],
      "metadata": {
        "id": "QlKAPgd1FtKa"
      },
      "execution_count": null,
      "outputs": []
    },
    {
      "cell_type": "markdown",
      "source": [
        "**Verify index was created**"
      ],
      "metadata": {
        "id": "Yek56hYjDzr1"
      }
    },
    {
      "cell_type": "code",
      "source": [
        "import hdf5_indexer\n",
        "hdf5_indexer.extract_index('spleen_1chr1rep.cndb')"
      ],
      "metadata": {
        "id": "-Z6jl9cOEFcM"
      },
      "execution_count": null,
      "outputs": []
    },
    {
      "cell_type": "markdown",
      "source": [
        "## Cleanup"
      ],
      "metadata": {
        "id": "SX9t4m1OXgwh"
      }
    },
    {
      "cell_type": "code",
      "source": [
        "!pip uninstall hdf5-indexer"
      ],
      "metadata": {
        "id": "phxXVfBXXwRs"
      },
      "execution_count": null,
      "outputs": []
    }
  ]
}