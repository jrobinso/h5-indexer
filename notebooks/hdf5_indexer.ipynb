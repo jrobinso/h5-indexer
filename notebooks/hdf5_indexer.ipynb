{
  "nbformat": 4,
  "nbformat_minor": 0,
  "metadata": {
    "colab": {
      "private_outputs": true,
      "provenance": [],
      "include_colab_link": true
    },
    "kernelspec": {
      "name": "python3",
      "display_name": "Python 3"
    },
    "language_info": {
      "name": "python"
    },
    "gpuClass": "standard"
  },
  "cells": [
    {
      "cell_type": "markdown",
      "metadata": {
        "id": "view-in-github",
        "colab_type": "text"
      },
      "source": [
        "<a href=\"https://colab.research.google.com/github/jrobinso/hdf5-indexer/blob/main/notebooks/hdf5_indexer.ipynb\" target=\"_parent\"><img src=\"https://colab.research.google.com/assets/colab-badge.svg\" alt=\"Open In Colab\"/></a>"
      ]
    },
    {
      "cell_type": "markdown",
      "source": [
        "# hdf5-indexer example notebook\n",
        "\n",
        "This notebook illustrates using [hdf5-indexer](https://github.com/jrobinso/hdf5-indexer) to index an hdf5 file for efficient remote access. "
      ],
      "metadata": {
        "id": "FtbTQNdVDIX7"
      }
    },
    {
      "cell_type": "markdown",
      "source": [
        "## Command Line usage"
      ],
      "metadata": {
        "id": "9A1lV7MuD59-"
      }
    },
    {
      "cell_type": "markdown",
      "source": [
        "**Install hdf5-indexer**"
      ],
      "metadata": {
        "id": "CpMIhHGuU3PY"
      }
    },
    {
      "cell_type": "code",
      "execution_count": null,
      "metadata": {
        "id": "xYiQ2GB8YSSN"
      },
      "outputs": [],
      "source": [
        "!pip install git+https://github.com/jrobinso/hdf5-indexer.git"
      ]
    },
    {
      "cell_type": "markdown",
      "source": [
        "**Download example file**"
      ],
      "metadata": {
        "id": "rLgShWM8UoI6"
      }
    },
    {
      "cell_type": "code",
      "source": [
        "!wget https://www.dropbox.com/s/7hmj25az1vgaejf/spleen_1chr1rep.cndb?dl=0 -O spleen_1chr1rep.cndb"
      ],
      "metadata": {
        "id": "PxK2kffDhtvq"
      },
      "execution_count": null,
      "outputs": []
    },
    {
      "cell_type": "markdown",
      "source": [
        "**Create index**"
      ],
      "metadata": {
        "id": "VIGhjIADUvDF"
      }
    },
    {
      "cell_type": "code",
      "source": [
        "!h5index spleen_1chr1rep.cndb"
      ],
      "metadata": {
        "id": "kN7QbxdpwUoA"
      },
      "execution_count": null,
      "outputs": []
    },
    {
      "cell_type": "markdown",
      "source": [
        "**Create index**"
      ],
      "metadata": {
        "id": "S1fBI0itF2L6"
      }
    },
    {
      "cell_type": "code",
      "source": [
        "!h5extract spleen_1chr1rep.cndb"
      ],
      "metadata": {
        "id": "AMakoL7HBI_7"
      },
      "execution_count": null,
      "outputs": []
    },
    {
      "cell_type": "markdown",
      "source": [
        "## Programatic usage\n"
      ],
      "metadata": {
        "id": "CFHIqgoVEAPR"
      }
    },
    {
      "cell_type": "markdown",
      "source": [
        "**Install hdf5-indexer**"
      ],
      "metadata": {
        "id": "9jp-n0U4JhP_"
      }
    },
    {
      "cell_type": "code",
      "execution_count": null,
      "metadata": {
        "id": "eyba_ASnJhQF"
      },
      "outputs": [],
      "source": [
        "!pip install git+https://github.com/jrobinso/hdf5-indexer.git"
      ]
    },
    {
      "cell_type": "markdown",
      "source": [
        "**Download example file**"
      ],
      "metadata": {
        "id": "lD2SdbVaJhQG"
      }
    },
    {
      "cell_type": "code",
      "source": [
        "!wget https://www.dropbox.com/s/7hmj25az1vgaejf/spleen_1chr1rep.cndb?dl=0 -O spleen_1chr1rep.cndb"
      ],
      "metadata": {
        "id": "RPh5Y_vwJhQG"
      },
      "execution_count": null,
      "outputs": []
    },
    {
      "cell_type": "markdown",
      "source": [
        "**Create index**"
      ],
      "metadata": {
        "id": "nKRtH4Y4F0Xz"
      }
    },
    {
      "cell_type": "code",
      "source": [
        "import hdf5_indexer\n",
        "hdf5_indexer.make_index('spleen_1chr1rep.cndb')\n",
        "\n",
        "\n",
        "\n"
      ],
      "metadata": {
        "id": "QlKAPgd1FtKa"
      },
      "execution_count": null,
      "outputs": []
    },
    {
      "cell_type": "markdown",
      "source": [
        "**Verify index was created**"
      ],
      "metadata": {
        "id": "Yek56hYjDzr1"
      }
    },
    {
      "cell_type": "code",
      "source": [
        "import hdf5_indexer\n",
        "hdf5_indexer.extract_index('spleen_1chr1rep.cndb')\n",
        "\n"
      ],
      "metadata": {
        "id": "-Z6jl9cOEFcM"
      },
      "execution_count": null,
      "outputs": []
    }
  ]
}